{
 "cells": [
  {
   "cell_type": "code",
   "execution_count": 1,
   "metadata": {},
   "outputs": [],
   "source": [
    "import math\n",
    "import matplotlib.pyplot as plt \n",
    "import numpy as np\n",
    "from scipy import random\n",
    "import time"
   ]
  },
  {
   "cell_type": "code",
   "execution_count": 2,
   "metadata": {},
   "outputs": [
    {
     "data": {
      "image/png": "[encoded data removed]",
      "text/plain": [
       "<Figure size 432x288 with 1 Axes>"
      ]
     },
     "metadata": {
      "needs_background": "light"
     },
     "output_type": "display_data"
    }
   ],
   "source": [
    "#1.1.a\n",
    "in_array = [-1, -0.8, -0.6, -0.4, -0.2, 0, 0.2, 0.4, 0.6, 0.8, 1, 1.2, 1.4, 1.6, 1.8, 2]\n",
    "out_array = []\n",
    "# 𝑓(𝑥) = 2.020−𝑥^3− 𝑥^4*sin(𝑥^3) − 1.949\n",
    "for i in range(len(in_array)):\n",
    "    out_array.append(2.020**(-in_array[i]**3) - (in_array[i]**4)*math.sin(in_array[i]**3)-1.949)\n",
    "    i += 1\n",
    "\n",
    "plt.plot(in_array, out_array, color = 'red', marker = \"o\") \n",
    "plt.show()"
   ]
  },
  {
   "cell_type": "code",
   "execution_count": 3,
   "metadata": {},
   "outputs": [],
   "source": [
    "# 1.1.b\n",
    "# x1 = 1.5\n",
    "\n",
    "# 1.1.c\n",
    "# delta = 0.05\n",
    "# The interval is [1.45, 1.55]"
   ]
  },
  {
   "cell_type": "code",
   "execution_count": 4,
   "metadata": {},
   "outputs": [],
   "source": [
    "# 1.1.d\n",
    "def bisection_method(f, a, b, tol):\n",
    "    if f(a)*f(b) > 0:\n",
    "        print(\"No root found.\")\n",
    "    else:\n",
    "        iter = 0\n",
    "        while (b - a)/2.0 > tol:\n",
    "            midpoint = (a + b)/2.0\n",
    "            if f(a)*f(midpoint) < 0:\n",
    "                b = midpoint\n",
    "                iter += 1\n",
    "            else:\n",
    "                a = midpoint\n",
    "                iter += 1\n",
    "        return(midpoint, iter)"
   ]
  },
  {
   "cell_type": "code",
   "execution_count": 5,
   "metadata": {},
   "outputs": [
    {
     "name": "stdout",
     "output_type": "stream",
     "text": [
      "Answer: 1.5181640625 \n",
      "found in 9 iterations and 0.0001201629638671875 seconds\n"
     ]
    }
   ],
   "source": [
    "f = lambda x: 2.020**(-x**3) - (x**4)*math.sin(x**3)-1.949\n",
    "start_x0 = time.time()\n",
    "x0, iter0 = bisection_method(f, 1.45, 1.55, 0.0001)\n",
    "end_x0 = time.time()\n",
    "print(\"Answer:\", x0, \"\\nfound in\", iter0, \"iterations\", \"and\", (end_x0 - start_x0), \"seconds\")"
   ]
  },
  {
   "cell_type": "code",
   "execution_count": 6,
   "metadata": {},
   "outputs": [
    {
     "name": "stdout",
     "output_type": "stream",
     "text": [
      "Answer: 1.8279296875000002 \n",
      "found in 9 iterations and 0.0003421306610107422 seconds\n"
     ]
    }
   ],
   "source": [
    "# 1.1.e\n",
    "start_x1 = time.time()\n",
    "x1, iter1 = bisection_method(f, 1.75, 1.85, 0.0001)\n",
    "end_x1 = time.time()\n",
    "print(\"Answer:\", x1, \"\\nfound in\", iter1, \"iterations\", \"and\", (end_x1 - start_x1), \"seconds\")"
   ]
  },
  {
   "cell_type": "code",
   "execution_count": 7,
   "metadata": {},
   "outputs": [
    {
     "name": "stdout",
     "output_type": "stream",
     "text": [
      "Answer: -0.8716796874999999 \n",
      "found in 9 iterations and 0.00013208389282226562 seconds\n"
     ]
    }
   ],
   "source": [
    "start_x2 = time.time()\n",
    "x2, iter2 = bisection_method(f, -0.95, -0.85, 0.0001)\n",
    "end_x2 = time.time()\n",
    "print(\"Answer:\", x2, \"\\nfound in\", iter2, \"iterations\", \"and\", (end_x2 - start_x2), \"seconds\")"
   ]
  },
  {
   "cell_type": "code",
   "execution_count": 20,
   "metadata": {},
   "outputs": [],
   "source": [
    "# 1.1.f\n",
    "def newton(fn, dfn, x, tol, maxiter):\n",
    "    for i in range(maxiter):\n",
    "        xnew = x - fn(x)/dfn(x)\n",
    "        if abs(xnew - x) < tol: \n",
    "            break\n",
    "        x = xnew\n",
    "    return xnew, i\n",
    "\n",
    "y = lambda x: 2.020**(-x**3) - (x**4)*math.sin(x**3)-1.949\n",
    "dy = lambda x: (-math.log(2.02)*3)*(2.020**(-x**3)*(x**2))-(3*(x**6)*math.cos(x**3))-(4*(x**3)*math.sin(x**3))"
   ]
  },
  {
   "cell_type": "code",
   "execution_count": 21,
   "metadata": {},
   "outputs": [
    {
     "name": "stdout",
     "output_type": "stream",
     "text": [
      "Answer: 1.5182832819157779 \n",
      "found in 2 iterations and 9.703636169433594e-05 seconds\n"
     ]
    }
   ],
   "source": [
    "start_x3 = time.time()\n",
    "x3, n3 = newton(y, dy, 1.5, 0.0001, 100)\n",
    "end_x3 = time.time()\n",
    "print(\"Answer:\", x3, \"\\nfound in\", n3, \"iterations\", \"and\", (end_x3 - start_x3), \"seconds\")"
   ]
  },
  {
   "cell_type": "code",
   "execution_count": 10,
   "metadata": {},
   "outputs": [
    {
     "name": "stdout",
     "output_type": "stream",
     "text": [
      "Answer: 1.8280587394599772 \n",
      "found in 2 iterations and 9.131431579589844e-05 seconds\n"
     ]
    }
   ],
   "source": [
    "start_x4 = time.time()\n",
    "x4, n4 = newton(y, dy, 1.8, 0.0001, 100)\n",
    "end_x4 = time.time()\n",
    "print(\"Answer:\", x4, \"\\nfound in\", n4, \"iterations\", \"and\", (end_x4 - start_x4), \"seconds\")"
   ]
  },
  {
   "cell_type": "code",
   "execution_count": 11,
   "metadata": {},
   "outputs": [
    {
     "name": "stdout",
     "output_type": "stream",
     "text": [
      "Answer: -0.8718466896886468 \n",
      "found in 3 iterations and 0.00014400482177734375 seconds\n"
     ]
    }
   ],
   "source": [
    "start_x5 = time.time()\n",
    "x5, n5 = newton(y, dy, -0.8, 0.0001, 100)\n",
    "end_x5 = time.time()\n",
    "print(\"Answer:\", x5, \"\\nfound in\", n5, \"iterations\", \"and\", (end_x5 - start_x5), \"seconds\")"
   ]
  },
  {
   "cell_type": "code",
   "execution_count": null,
   "metadata": {},
   "outputs": [],
   "source": []
  },
  {
   "cell_type": "code",
   "execution_count": null,
   "metadata": {},
   "outputs": [],
   "source": []
  },
  {
   "cell_type": "code",
   "execution_count": 12,
   "metadata": {},
   "outputs": [],
   "source": [
    "# 2"
   ]
  },
  {
   "cell_type": "code",
   "execution_count": 13,
   "metadata": {},
   "outputs": [
    {
     "name": "stdout",
     "output_type": "stream",
     "text": [
      "0.39269908169872414\n"
     ]
    }
   ],
   "source": [
    "# Calculate the area of the circle with p*r^2\n",
    "circle = math.pi*0.125\n",
    "print(circle)"
   ]
  },
  {
   "cell_type": "code",
   "execution_count": 29,
   "metadata": {},
   "outputs": [],
   "source": [
    "# Define the function after converting it to polar coordinate\n",
    "def func(x):\n",
    "    return ((math.sin(x)**3)+ (math.cos(x)**3))"
   ]
  },
  {
   "cell_type": "code",
   "execution_count": 32,
   "metadata": {},
   "outputs": [],
   "source": [
    "# 1.2.1\n",
    "def rect(f,a,b,n):\n",
    "    area=0\n",
    "\n",
    "    a=float(a)\n",
    "    b=float(b)\n",
    "    n=float(n)\n",
    "\n",
    "    i=(b-a)/n\n",
    "\n",
    "    x1=a\n",
    "    x2=a+i\n",
    "\n",
    "    while (a<=x2<=b) or (a>=x2>=b):\n",
    "        a0=f((x1+x2)/2)*i\n",
    "        area+=a0\n",
    "\n",
    "        x2+=i\n",
    "        x1+=i\n",
    "\n",
    "    return area"
   ]
  },
  {
   "cell_type": "code",
   "execution_count": 33,
   "metadata": {},
   "outputs": [
    {
     "name": "stdout",
     "output_type": "stream",
     "text": [
      "Answer: 0.6994369379338106 \n",
      "found in 0.0013759136199951172 seconds\n"
     ]
    }
   ],
   "source": [
    "start_x6 = time.time()\n",
    "rect_kidney = rect(func,-0.2829,1,1000)\n",
    "rect_ans = rect_kidney - circle\n",
    "end_x6 = time.time()\n",
    "print(\"Answer using rectangle method:\", rect_ans, \"\\nfound in\", (end_x6 - start_x6), \"seconds\")"
   ]
  },
  {
   "cell_type": "code",
   "execution_count": 34,
   "metadata": {},
   "outputs": [],
   "source": [
    "#1.2.2\n",
    "def trap(f,a,b,n):\n",
    "    area=0\n",
    "    a=float(a)\n",
    "    b=float(b)\n",
    "    n=float(n)\n",
    "    i=(b-a)/n\n",
    "    x1=a\n",
    "    x2=a+i\n",
    "\n",
    "    while (a<=x2<=b) or (a>=x2>=b):\n",
    "        a0=(f(x1)+f(x2))*i/2\n",
    "        area+=a0\n",
    "        x2+=i\n",
    "        x1+=i\n",
    "\n",
    "    return area"
   ]
  },
  {
   "cell_type": "code",
   "execution_count": 35,
   "metadata": {},
   "outputs": [
    {
     "name": "stdout",
     "output_type": "stream",
     "text": [
      "Answer: 0.6994368174048646 \n",
      "found in 0.0016660690307617188 seconds\n"
     ]
    }
   ],
   "source": [
    "start_x7 = time.time()\n",
    "trap_kidney = trap(func,-0.2829,1,1000)\n",
    "trap_ans = trap_kidney - circle\n",
    "end_x7 = time.time()\n",
    "print(\"Answer using trapeziodal method:\", trap_ans, \"\\nfound in\", (end_x7 - start_x7), \"seconds\")"
   ]
  },
  {
   "cell_type": "code",
   "execution_count": 37,
   "metadata": {},
   "outputs": [
    {
     "name": "stdout",
     "output_type": "stream",
     "text": [
      "Answer using Monte Carlo method: 0.6959614464948416 \n",
      "found in 0.005403757095336914 seconds\n"
     ]
    }
   ],
   "source": [
    "#1.2.3\n",
    "start_x8 = time.time()\n",
    "a = -0.28288\n",
    "b = 1\n",
    "N = 1000\n",
    "ar = np.zeros(N)\n",
    "for i in range (len(ar)):\n",
    "    ar[i] = random.uniform(a,b)\n",
    "integral = 0.0\n",
    "for i in ar:\n",
    "    integral += func(i)\n",
    "ans = (b-a)/float(N)*integral\n",
    "mc_ans = ans - circle\n",
    "end_x8 = time.time()\n",
    "print (\"Answer using Monte Carlo method:\", mc_ans, \"\\nfound in\", (end_x8 - start_x8), \"seconds\")"
   ]
  },
  {
   "cell_type": "code",
   "execution_count": null,
   "metadata": {},
   "outputs": [],
   "source": []
  }
 ],
 "metadata": {
  "kernelspec": {
   "display_name": "Python 3",
   "language": "python",
   "name": "python3"
  },
  "language_info": {
   "codemirror_mode": {
    "name": "ipython",
    "version": 3
   },
   "file_extension": ".py",
   "mimetype": "text/x-python",
   "name": "python",
   "nbconvert_exporter": "python",
   "pygments_lexer": "ipython3",
   "version": "3.7.4"
  }
 },
 "nbformat": 4,
 "nbformat_minor": 2
}
